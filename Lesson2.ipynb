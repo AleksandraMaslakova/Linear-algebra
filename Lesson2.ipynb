{
  "nbformat": 4,
  "nbformat_minor": 0,
  "metadata": {
    "colab": {
      "provenance": []
    },
    "kernelspec": {
      "name": "python3",
      "display_name": "Python 3"
    },
    "language_info": {
      "name": "python"
    }
  },
  "cells": [
    {
      "cell_type": "markdown",
      "source": [
        "# Part 1"
      ],
      "metadata": {
        "id": "uoDMYgci8tJA"
      }
    },
    {
      "cell_type": "code",
      "source": [
        "# 1. Установить, какие произведения матриц  𝐴𝐵  и  𝐵𝐴  определены, и найти размерности полученных матриц\n",
        "\n",
        "import numpy as np"
      ],
      "metadata": {
        "id": "okM-bon3wtsf"
      },
      "execution_count": 1,
      "outputs": []
    },
    {
      "cell_type": "code",
      "source": [
        "A = np.ones((4, 2))\n",
        "B = np.ones((4, 2))\n",
        "print(f'Matrix A\\n{A}\\n')\n",
        "print(f'Matrix B\\n{B}\\n')\n",
        "print(f'Matrix AB\\n {np.dot(A, B)}')\n",
        "print(f'Matrix BA\\n {np.dot(B, A)}')"
      ],
      "metadata": {
        "colab": {
          "base_uri": "https://localhost:8080/",
          "height": 472
        },
        "id": "Z7Xf8Dwsye0_",
        "outputId": "1f575458-2eb2-45d7-dc04-56d884b61934"
      },
      "execution_count": 3,
      "outputs": [
        {
          "output_type": "stream",
          "name": "stdout",
          "text": [
            "Matrix A\n",
            "[[1. 1.]\n",
            " [1. 1.]\n",
            " [1. 1.]\n",
            " [1. 1.]]\n",
            "\n",
            "Matrix B\n",
            "[[1. 1.]\n",
            " [1. 1.]\n",
            " [1. 1.]\n",
            " [1. 1.]]\n",
            "\n"
          ]
        },
        {
          "output_type": "error",
          "ename": "ValueError",
          "evalue": "ignored",
          "traceback": [
            "\u001b[0;31m---------------------------------------------------------------------------\u001b[0m",
            "\u001b[0;31mValueError\u001b[0m                                Traceback (most recent call last)",
            "\u001b[0;32m<ipython-input-3-230552c9c382>\u001b[0m in \u001b[0;36m<module>\u001b[0;34m\u001b[0m\n\u001b[1;32m      3\u001b[0m \u001b[0mprint\u001b[0m\u001b[0;34m(\u001b[0m\u001b[0;34mf'Matrix A\\n{A}\\n'\u001b[0m\u001b[0;34m)\u001b[0m\u001b[0;34m\u001b[0m\u001b[0;34m\u001b[0m\u001b[0m\n\u001b[1;32m      4\u001b[0m \u001b[0mprint\u001b[0m\u001b[0;34m(\u001b[0m\u001b[0;34mf'Matrix B\\n{B}\\n'\u001b[0m\u001b[0;34m)\u001b[0m\u001b[0;34m\u001b[0m\u001b[0;34m\u001b[0m\u001b[0m\n\u001b[0;32m----> 5\u001b[0;31m \u001b[0mprint\u001b[0m\u001b[0;34m(\u001b[0m\u001b[0;34mf'Matrix AB\\n {np.dot(A, B)}'\u001b[0m\u001b[0;34m)\u001b[0m\u001b[0;34m\u001b[0m\u001b[0;34m\u001b[0m\u001b[0m\n\u001b[0m\u001b[1;32m      6\u001b[0m \u001b[0mprint\u001b[0m\u001b[0;34m(\u001b[0m\u001b[0;34mf'Matrix BA\\n {np.dot(B, A)}'\u001b[0m\u001b[0;34m)\u001b[0m\u001b[0;34m\u001b[0m\u001b[0;34m\u001b[0m\u001b[0m\n",
            "\u001b[0;32m/usr/local/lib/python3.9/dist-packages/numpy/core/overrides.py\u001b[0m in \u001b[0;36mdot\u001b[0;34m(*args, **kwargs)\u001b[0m\n",
            "\u001b[0;31mValueError\u001b[0m: shapes (4,2) and (4,2) not aligned: 2 (dim 1) != 4 (dim 0)"
          ]
        }
      ]
    },
    {
      "cell_type": "markdown",
      "source": [
        "Перемножение не возможно, т.к. количество столбцов первой матрицы не равно количеству строк второй при перемножении."
      ],
      "metadata": {
        "id": "PjPqv_oY0uR-"
      }
    },
    {
      "cell_type": "code",
      "source": [
        "A = np.ones((2, 5))\n",
        "B = np.ones((5, 3))\n",
        "print(f'Matrix A\\n{A}\\n')\n",
        "print(f'Matrix B\\n{B}\\n')\n",
        "print(f'Matrix AB\\n {np.dot(A, B)}')\n",
        "print(f'Matrix BA\\n {np.dot(B, A)}')"
      ],
      "metadata": {
        "colab": {
          "base_uri": "https://localhost:8080/",
          "height": 490
        },
        "id": "u4NJAs_O1gMp",
        "outputId": "ef20f895-c998-4800-efee-fb944edf8ff0"
      },
      "execution_count": 4,
      "outputs": [
        {
          "output_type": "stream",
          "name": "stdout",
          "text": [
            "Matrix A\n",
            "[[1. 1. 1. 1. 1.]\n",
            " [1. 1. 1. 1. 1.]]\n",
            "\n",
            "Matrix B\n",
            "[[1. 1. 1.]\n",
            " [1. 1. 1.]\n",
            " [1. 1. 1.]\n",
            " [1. 1. 1.]\n",
            " [1. 1. 1.]]\n",
            "\n",
            "Matrix AB\n",
            " [[5. 5. 5.]\n",
            " [5. 5. 5.]]\n"
          ]
        },
        {
          "output_type": "error",
          "ename": "ValueError",
          "evalue": "ignored",
          "traceback": [
            "\u001b[0;31m---------------------------------------------------------------------------\u001b[0m",
            "\u001b[0;31mValueError\u001b[0m                                Traceback (most recent call last)",
            "\u001b[0;32m<ipython-input-4-31f27888513d>\u001b[0m in \u001b[0;36m<module>\u001b[0;34m\u001b[0m\n\u001b[1;32m      4\u001b[0m \u001b[0mprint\u001b[0m\u001b[0;34m(\u001b[0m\u001b[0;34mf'Matrix B\\n{B}\\n'\u001b[0m\u001b[0;34m)\u001b[0m\u001b[0;34m\u001b[0m\u001b[0;34m\u001b[0m\u001b[0m\n\u001b[1;32m      5\u001b[0m \u001b[0mprint\u001b[0m\u001b[0;34m(\u001b[0m\u001b[0;34mf'Matrix AB\\n {np.dot(A, B)}'\u001b[0m\u001b[0;34m)\u001b[0m\u001b[0;34m\u001b[0m\u001b[0;34m\u001b[0m\u001b[0m\n\u001b[0;32m----> 6\u001b[0;31m \u001b[0mprint\u001b[0m\u001b[0;34m(\u001b[0m\u001b[0;34mf'Matrix BA\\n {np.dot(B, A)}'\u001b[0m\u001b[0;34m)\u001b[0m\u001b[0;34m\u001b[0m\u001b[0;34m\u001b[0m\u001b[0m\n\u001b[0m",
            "\u001b[0;32m/usr/local/lib/python3.9/dist-packages/numpy/core/overrides.py\u001b[0m in \u001b[0;36mdot\u001b[0;34m(*args, **kwargs)\u001b[0m\n",
            "\u001b[0;31mValueError\u001b[0m: shapes (5,3) and (2,5) not aligned: 3 (dim 1) != 2 (dim 0)"
          ]
        }
      ]
    },
    {
      "cell_type": "markdown",
      "source": [
        "Перемножить АВ можно - соответвует размерность, перемножить ВА нельзя - нарушена размерность матрицы."
      ],
      "metadata": {
        "id": "Nk0Sv35g1xme"
      }
    },
    {
      "cell_type": "code",
      "source": [
        "A = np.ones((8, 3))\n",
        "B = np.ones((3, 8))\n",
        "print(f'Matrix A\\n{A}\\n')\n",
        "print(f'Matrix B\\n{B}\\n')\n",
        "print(f'Matrix AB\\n {np.dot(A, B)}')\n",
        "print(f'Matrix BA\\n {np.dot(B, A)}')"
      ],
      "metadata": {
        "colab": {
          "base_uri": "https://localhost:8080/"
        },
        "id": "rs5P9K1y2HKT",
        "outputId": "89551066-33d3-47cf-898f-8f83106005d0"
      },
      "execution_count": 5,
      "outputs": [
        {
          "output_type": "stream",
          "name": "stdout",
          "text": [
            "Matrix A\n",
            "[[1. 1. 1.]\n",
            " [1. 1. 1.]\n",
            " [1. 1. 1.]\n",
            " [1. 1. 1.]\n",
            " [1. 1. 1.]\n",
            " [1. 1. 1.]\n",
            " [1. 1. 1.]\n",
            " [1. 1. 1.]]\n",
            "\n",
            "Matrix B\n",
            "[[1. 1. 1. 1. 1. 1. 1. 1.]\n",
            " [1. 1. 1. 1. 1. 1. 1. 1.]\n",
            " [1. 1. 1. 1. 1. 1. 1. 1.]]\n",
            "\n",
            "Matrix AB\n",
            " [[3. 3. 3. 3. 3. 3. 3. 3.]\n",
            " [3. 3. 3. 3. 3. 3. 3. 3.]\n",
            " [3. 3. 3. 3. 3. 3. 3. 3.]\n",
            " [3. 3. 3. 3. 3. 3. 3. 3.]\n",
            " [3. 3. 3. 3. 3. 3. 3. 3.]\n",
            " [3. 3. 3. 3. 3. 3. 3. 3.]\n",
            " [3. 3. 3. 3. 3. 3. 3. 3.]\n",
            " [3. 3. 3. 3. 3. 3. 3. 3.]]\n",
            "Matrix BA\n",
            " [[8. 8. 8.]\n",
            " [8. 8. 8.]\n",
            " [8. 8. 8.]]\n"
          ]
        }
      ]
    },
    {
      "cell_type": "markdown",
      "source": [
        "Перемножение матриц прошло успешно, размерность не нарушена в обоих случаях перемножения."
      ],
      "metadata": {
        "id": "iTg_kBRr2Pjc"
      }
    },
    {
      "cell_type": "code",
      "source": [
        "A = np.ones((4, 4))\n",
        "B = np.ones((4, 4))\n",
        "print(f'Matrix A\\n{A}\\n')\n",
        "print(f'Matrix B\\n{B}\\n')\n",
        "print(f'Matrix AB\\n {np.dot(A, B)}')\n",
        "print(f'Matrix BA\\n {np.dot(B, A)}')"
      ],
      "metadata": {
        "colab": {
          "base_uri": "https://localhost:8080/"
        },
        "id": "d9UDV9t62YKM",
        "outputId": "1910a478-0402-4b11-85bd-6609e2bdcafd"
      },
      "execution_count": 6,
      "outputs": [
        {
          "output_type": "stream",
          "name": "stdout",
          "text": [
            "Matrix A\n",
            "[[1. 1. 1. 1.]\n",
            " [1. 1. 1. 1.]\n",
            " [1. 1. 1. 1.]\n",
            " [1. 1. 1. 1.]]\n",
            "\n",
            "Matrix B\n",
            "[[1. 1. 1. 1.]\n",
            " [1. 1. 1. 1.]\n",
            " [1. 1. 1. 1.]\n",
            " [1. 1. 1. 1.]]\n",
            "\n",
            "Matrix AB\n",
            " [[4. 4. 4. 4.]\n",
            " [4. 4. 4. 4.]\n",
            " [4. 4. 4. 4.]\n",
            " [4. 4. 4. 4.]]\n",
            "Matrix BA\n",
            " [[4. 4. 4. 4.]\n",
            " [4. 4. 4. 4.]\n",
            " [4. 4. 4. 4.]\n",
            " [4. 4. 4. 4.]]\n"
          ]
        }
      ]
    },
    {
      "cell_type": "markdown",
      "source": [
        "Перемножение матриц прошло успешно, размерность не нарушена в обоих случаях перемножения."
      ],
      "metadata": {
        "id": "1fBuAeR12hPk"
      }
    },
    {
      "cell_type": "markdown",
      "source": [
        "2. Найдите сумму и произведение матриц"
      ],
      "metadata": {
        "id": "sLdae0fF2jqR"
      }
    },
    {
      "cell_type": "code",
      "source": [
        "A = np.array([[1, -2], [3, 0]])\n",
        "B = np.array([[4, -1], [0, 5]])\n",
        "print(f'Matrix A\\n {A}')\n",
        "print(f'Matrix B\\n {B}')\n",
        "print(f'Matrix SUM AB\\n {A+B}')\n",
        "print(f'Matrix AB\\n {np.dot(A, B)}')\n",
        "print(f'Matrix BA\\n {np.dot(B, A)}')"
      ],
      "metadata": {
        "colab": {
          "base_uri": "https://localhost:8080/"
        },
        "id": "RDHrwqOL2t6o",
        "outputId": "2bff757e-e1f7-44bd-f636-d5e991b6f65c"
      },
      "execution_count": 8,
      "outputs": [
        {
          "output_type": "stream",
          "name": "stdout",
          "text": [
            "Matrix A\n",
            " [[ 1 -2]\n",
            " [ 3  0]]\n",
            "Matrix B\n",
            " [[ 4 -1]\n",
            " [ 0  5]]\n",
            "Matrix SUM AB\n",
            " [[ 5 -3]\n",
            " [ 3  5]]\n",
            "Matrix AB\n",
            " [[  4 -11]\n",
            " [ 12  -3]]\n",
            "Matrix BA\n",
            " [[ 1 -8]\n",
            " [15  0]]\n"
          ]
        }
      ]
    },
    {
      "cell_type": "markdown",
      "source": [
        "3. Из закономерностей сложения и умножения матриц на число можно\n",
        "сделать вывод что матрицы одного размера образуют линейное ,\n",
        "пространство Вычислите линейную комбинацию . 3 A −2B+4C для матриц"
      ],
      "metadata": {
        "id": "eAO2FeZp4Z85"
      }
    },
    {
      "cell_type": "code",
      "source": [
        "A = np.array([[1, 7], [3, -6]])\n",
        "B = np.array([[0, 5], [2, -1]])\n",
        "C = np.array([[2, -4], [1, 1]])\n",
        "print(f'Matrix A\\n {A}')\n",
        "print(f'Matrix B\\n {B}')\n",
        "print(f'Matrix C\\n {C}')\n",
        "print(f'Matrix 3A-2B+4C\\n {3 * A + (-2) * B + 4* C}')"
      ],
      "metadata": {
        "colab": {
          "base_uri": "https://localhost:8080/"
        },
        "id": "ALZ1uHQJ40xN",
        "outputId": "d2226c57-0198-4ce7-8add-007ca305a38b"
      },
      "execution_count": 9,
      "outputs": [
        {
          "output_type": "stream",
          "name": "stdout",
          "text": [
            "Matrix A\n",
            " [[ 1  7]\n",
            " [ 3 -6]]\n",
            "Matrix B\n",
            " [[ 0  5]\n",
            " [ 2 -1]]\n",
            "Matrix C\n",
            " [[ 2 -4]\n",
            " [ 1  1]]\n",
            "Matrix 3A-2B+4C\n",
            " [[ 11  -5]\n",
            " [  9 -12]]\n"
          ]
        }
      ]
    },
    {
      "cell_type": "markdown",
      "source": [
        "4. Дана матрица A=(\n",
        "[4 1\n",
        "5], [−2\n",
        "2 3] )\n",
        ". Вычислите A A\n",
        "T\n",
        " и A\n",
        "T\n",
        "A."
      ],
      "metadata": {
        "id": "SMByCwFN6w27"
      }
    },
    {
      "cell_type": "code",
      "source": [
        "A = np.array([[4, 1, 5], [-2, 2, 3]])\n",
        "At = A.T\n",
        "print(f'Matrix A\\n {A}')\n",
        "print(f'Matrix At\\n {At}')\n",
        "print(f'Matrix A*At\\n {np.dot(A, At)}')\n",
        "print(f'Matrix At*A\\n {np.dot(At, A)}')"
      ],
      "metadata": {
        "colab": {
          "base_uri": "https://localhost:8080/"
        },
        "id": "RM2Cr61D65mB",
        "outputId": "29c55d58-dfa6-45ba-e999-d6ac8bbfc94f"
      },
      "execution_count": 11,
      "outputs": [
        {
          "output_type": "stream",
          "name": "stdout",
          "text": [
            "Matrix A\n",
            " [[ 4  1  5]\n",
            " [-2  2  3]]\n",
            "Matrix At\n",
            " [[ 4 -2]\n",
            " [ 1  2]\n",
            " [ 5  3]]\n",
            "Matrix A*At\n",
            " [[42  9]\n",
            " [ 9 17]]\n",
            "Matrix At*A\n",
            " [[20  0 14]\n",
            " [ 0  5 11]\n",
            " [14 11 34]]\n"
          ]
        }
      ]
    },
    {
      "cell_type": "markdown",
      "source": [
        "# Part 2"
      ],
      "metadata": {
        "id": "sk-SbR7r8ySp"
      }
    },
    {
      "cell_type": "markdown",
      "source": [
        "1.Вычислите определитель"
      ],
      "metadata": {
        "id": "X22C4uUR8124"
      }
    },
    {
      "cell_type": "code",
      "source": [
        "import math as m\n",
        "x = 1\n",
        "s = m.sin(x)\n",
        "c = m.cos(x)\n",
        "A = np.array([[s, -c], [c, s]])\n",
        "print(f'Matrix A\\n {A}')\n",
        "print(f'Matrix det(A)\\n {np.linalg.det(A):.0f}')"
      ],
      "metadata": {
        "colab": {
          "base_uri": "https://localhost:8080/"
        },
        "id": "T2-Pd1jm9O0m",
        "outputId": "d3769216-e223-4d45-939d-95d5b9f98610"
      },
      "execution_count": 17,
      "outputs": [
        {
          "output_type": "stream",
          "name": "stdout",
          "text": [
            "Matrix A\n",
            " [[ 0.84147098 -0.54030231]\n",
            " [ 0.54030231  0.84147098]]\n",
            "Matrix det(A)\n",
            " 1\n"
          ]
        }
      ]
    },
    {
      "cell_type": "code",
      "source": [
        "A = np.array([[4, 2, 3], [0, 5, 1], [0, 0, 9]])\n",
        "print(f'Matrix A\\n {A}')\n",
        "print(f'Matrix det(A)\\n {np.linalg.det(A):.0f}')"
      ],
      "metadata": {
        "colab": {
          "base_uri": "https://localhost:8080/"
        },
        "id": "T9KGvQpZAh1Z",
        "outputId": "c28f30a6-70ae-46df-9292-53a5ff88b6d2"
      },
      "execution_count": 20,
      "outputs": [
        {
          "output_type": "stream",
          "name": "stdout",
          "text": [
            "Matrix A\n",
            " [[4 2 3]\n",
            " [0 5 1]\n",
            " [0 0 9]]\n",
            "Matrix det(A)\n",
            " 180\n"
          ]
        }
      ]
    },
    {
      "cell_type": "code",
      "source": [
        "A = np.array([[1, 2, 3], [4, 5, 6], [7, 8, 9]])\n",
        "print(f'Matrix A\\n {A}')\n",
        "print(f'Matrix det(A)\\n {np.linalg.det(A):.0f}')"
      ],
      "metadata": {
        "colab": {
          "base_uri": "https://localhost:8080/"
        },
        "id": "I_zVE9GUBYNK",
        "outputId": "fe52a84c-bc14-4021-d480-14752d866667"
      },
      "execution_count": 21,
      "outputs": [
        {
          "output_type": "stream",
          "name": "stdout",
          "text": [
            "Matrix A\n",
            " [[1 2 3]\n",
            " [4 5 6]\n",
            " [7 8 9]]\n",
            "Matrix det(A)\n",
            " 0\n"
          ]
        }
      ]
    },
    {
      "cell_type": "markdown",
      "source": [
        "2. Определитель матрицы A равен 4. : Найдите\n",
        "а) d e t ( A^\n",
        "2\n",
        ");\n",
        "б) d e t ( A^\n",
        "T\n",
        ");\n",
        "в) d e t (2 A)."
      ],
      "metadata": {
        "id": "eWwPkHCvCNeT"
      }
    },
    {
      "cell_type": "code",
      "source": [
        "A = 4\n",
        "print(f'det(A^2)\\n {A * A}')\n",
        "print(f'det(A^T)\\n {A}')\n",
        "# 𝑑𝑒𝑡𝐴^𝑇=𝑑𝑒𝑡𝐴\n",
        "# det(2A)=2^n∗4=2^(n+2)"
      ],
      "metadata": {
        "colab": {
          "base_uri": "https://localhost:8080/"
        },
        "id": "AMpws3InCdhX",
        "outputId": "ae1070e9-3891-4036-dd46-b84c1a51ebb2"
      },
      "execution_count": 27,
      "outputs": [
        {
          "output_type": "stream",
          "name": "stdout",
          "text": [
            "det(A^2)\n",
            " 16\n",
            "det(A^T)\n",
            " 4\n"
          ]
        }
      ]
    },
    {
      "cell_type": "markdown",
      "source": [
        "3.Доказать, что матрица вырожденная."
      ],
      "metadata": {
        "id": "cTpRPshfGXg9"
      }
    },
    {
      "cell_type": "code",
      "source": [
        "A = np.array([[-2, 7, -3], [4, -14, 6], [-3, 7, 13]])\n",
        "print(f'Matrix A\\n {A}')\n",
        "print(f'Matrix det(A) {np.linalg.det(A):.0f}')\n",
        "# Определитель равен 0 - матрица вырожденная."
      ],
      "metadata": {
        "colab": {
          "base_uri": "https://localhost:8080/"
        },
        "id": "Y54q1tTUGt8A",
        "outputId": "a570f831-5942-4ed2-9905-81d7b6dfcb09"
      },
      "execution_count": 28,
      "outputs": [
        {
          "output_type": "stream",
          "name": "stdout",
          "text": [
            "Matrix A\n",
            " [[ -2   7  -3]\n",
            " [  4 -14   6]\n",
            " [ -3   7  13]]\n",
            "Matrix det(A) 0\n"
          ]
        }
      ]
    },
    {
      "cell_type": "markdown",
      "source": [
        "4.Найти ранг матрицы."
      ],
      "metadata": {
        "id": "YYbaOrATHuUo"
      }
    },
    {
      "cell_type": "code",
      "source": [
        "A = np.array([[1, 2, 3], [1, 1, 1], [2, 3, 4]])\n",
        "print(f'Matrix A\\n {A}')\n",
        "print(f'Matrix rank(A)\\n {np.linalg.matrix_rank(A)}')"
      ],
      "metadata": {
        "colab": {
          "base_uri": "https://localhost:8080/"
        },
        "id": "WM--tzHyHzXE",
        "outputId": "097f833e-728f-4b87-bba9-78f3e7879ce2"
      },
      "execution_count": 29,
      "outputs": [
        {
          "output_type": "stream",
          "name": "stdout",
          "text": [
            "Matrix A\n",
            " [[1 2 3]\n",
            " [1 1 1]\n",
            " [2 3 4]]\n",
            "Matrix rank(A)\n",
            " 2\n"
          ]
        }
      ]
    },
    {
      "cell_type": "code",
      "source": [
        "A = np.array([[0, 0, 2, 1], [0, 0, 2, 2], [0, 0, 4, 3], [2, 3, 5, 6]])\n",
        "print(f'Matrix A\\n {A}')\n",
        "print(f'Matrix rank(A)\\n {np.linalg.matrix_rank(A)}')"
      ],
      "metadata": {
        "colab": {
          "base_uri": "https://localhost:8080/"
        },
        "id": "eqzgHjX3IlvP",
        "outputId": "93061197-4f7d-4c99-d436-cf1f320b3d57"
      },
      "execution_count": 30,
      "outputs": [
        {
          "output_type": "stream",
          "name": "stdout",
          "text": [
            "Matrix A\n",
            " [[0 0 2 1]\n",
            " [0 0 2 2]\n",
            " [0 0 4 3]\n",
            " [2 3 5 6]]\n",
            "Matrix rank(A)\n",
            " 3\n"
          ]
        }
      ]
    }
  ]
}