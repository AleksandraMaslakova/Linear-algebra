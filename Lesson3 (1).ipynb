{
  "nbformat": 4,
  "nbformat_minor": 0,
  "metadata": {
    "colab": {
      "provenance": []
    },
    "kernelspec": {
      "name": "python3",
      "display_name": "Python 3"
    },
    "language_info": {
      "name": "python"
    }
  },
  "cells": [
    {
      "cell_type": "markdown",
      "source": [
        "1.Найдите собственные векторы и собственные значения для линейного\n",
        "оператора заданного матрицей"
      ],
      "metadata": {
        "id": "IxuYXpJjHKb8"
      }
    },
    {
      "cell_type": "code",
      "execution_count": 1,
      "metadata": {
        "id": "vzToKGZ1HGTn"
      },
      "outputs": [],
      "source": [
        "import numpy as np"
      ]
    },
    {
      "cell_type": "code",
      "source": [
        "A = np.array([[-1, -6], [2, 6]])\n",
        "w, v = np.linalg.eig(A)\n",
        "\n",
        "print(f'Matrix A:\\n{A}')\n",
        "print(f'Eigenvalues:\\n{w}')\n",
        "print(f'Eigenvectors:\\n{v}')"
      ],
      "metadata": {
        "colab": {
          "base_uri": "https://localhost:8080/"
        },
        "id": "vXjenXUYHZQE",
        "outputId": "67915a5e-29d3-4985-b953-9b85d2812734"
      },
      "execution_count": 2,
      "outputs": [
        {
          "output_type": "stream",
          "name": "stdout",
          "text": [
            "Matrix A:\n",
            "[[-1 -6]\n",
            " [ 2  6]]\n",
            "Eigenvalues:\n",
            "[2. 3.]\n",
            "Eigenvectors:\n",
            "[[-0.89442719  0.83205029]\n",
            " [ 0.4472136  -0.5547002 ]]\n"
          ]
        }
      ]
    },
    {
      "cell_type": "markdown",
      "source": [
        "2.Дан оператор поворота на 180 градусов задаваемый матрицей\n",
        "A=([[−1, 0], [0, −1]]). Покажите что , любой вектор считается для него собственным."
      ],
      "metadata": {
        "id": "8F_LZ0t8JpZV"
      }
    },
    {
      "cell_type": "code",
      "source": [
        "A = np.array([[-1, 0], [0, -1]])\n",
        "w, v = np.linalg.eig(A)\n",
        "\n",
        "print(f'Matrix A:\\n {A}')\n",
        "print(f'Eigenvectors:\\n {v}')\n",
        "print(f'Eigenvalues:\\n {w}')"
      ],
      "metadata": {
        "colab": {
          "base_uri": "https://localhost:8080/"
        },
        "id": "GnDlPhw5KFa-",
        "outputId": "d8cdb008-3d2c-401d-c17f-4fe740f2a1c7"
      },
      "execution_count": 5,
      "outputs": [
        {
          "output_type": "stream",
          "name": "stdout",
          "text": [
            "Matrix A:\n",
            " [[-1  0]\n",
            " [ 0 -1]]\n",
            "Eigenvectors:\n",
            " [[1. 0.]\n",
            " [0. 1.]]\n",
            "Eigenvalues:\n",
            " [-1. -1.]\n"
          ]
        }
      ]
    },
    {
      "cell_type": "markdown",
      "source": [
        "Система верна при любых значениях и это означает что любой вектор x y, ,\n",
        "является для данного оператора собственным."
      ],
      "metadata": {
        "id": "R9Pk2q8TLUAA"
      }
    },
    {
      "cell_type": "markdown",
      "source": [
        "3.Пусть линейный оператор задан матрицей A=([[1, 1],[−1, 3]]). Установите считается ли вектор , x=(1 ,1) собственным вектором этого линейного оператора."
      ],
      "metadata": {
        "id": "IlZRAXgMMHvI"
      }
    },
    {
      "cell_type": "code",
      "source": [
        "A = np.array([[1, 1], [-1, 3]])\n",
        "x = np.array([1, 1])\n",
        "\n",
        "print(f'Matrix x:\\n {A.dot(x)}')"
      ],
      "metadata": {
        "colab": {
          "base_uri": "https://localhost:8080/"
        },
        "id": "Gzdfq9qqLZGs",
        "outputId": "8e04d991-362b-43bc-a0c0-430a52616d59"
      },
      "execution_count": 8,
      "outputs": [
        {
          "output_type": "stream",
          "name": "stdout",
          "text": [
            "Matrix x:\n",
            " [2 2]\n"
          ]
        }
      ]
    },
    {
      "cell_type": "markdown",
      "source": [
        "Система верна при заданных значениях, значит, вектор является собственным."
      ],
      "metadata": {
        "id": "Pigo4EK3OM5i"
      }
    },
    {
      "cell_type": "markdown",
      "source": [
        "4.Пусть линейный оператор задан матрицей A=([[0, 3, 0], [3, 0, 0], [0, 0, 3]]).\n",
        "Установите считается ли вектор , x=(3 ,−3,−4) собственным вектором этого\n",
        "линейного оператора."
      ],
      "metadata": {
        "id": "AYDmEjl9OlmD"
      }
    },
    {
      "cell_type": "code",
      "source": [
        "A = np.array([[0, 3, 0], [3, 0, 0], [0, 0, 3]])\n",
        "x = np.array([3, -3, -4])\n",
        "\n",
        "print(f'Matrix x:\\n {A.dot(x)}')"
      ],
      "metadata": {
        "colab": {
          "base_uri": "https://localhost:8080/"
        },
        "id": "07NE-f9MPAop",
        "outputId": "79bae020-8c53-4c8b-89bc-534bf5fe0dac"
      },
      "execution_count": 9,
      "outputs": [
        {
          "output_type": "stream",
          "name": "stdout",
          "text": [
            "Matrix x:\n",
            " [ -9   9 -12]\n"
          ]
        }
      ]
    },
    {
      "cell_type": "markdown",
      "source": [
        "т.к. решением системы является -3, то вектор x=(3,−3,−4) является собственным вектором."
      ],
      "metadata": {
        "id": "bChmny-QPb6d"
      }
    }
  ]
}