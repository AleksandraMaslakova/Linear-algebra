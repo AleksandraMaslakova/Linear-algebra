{
  "nbformat": 4,
  "nbformat_minor": 0,
  "metadata": {
    "colab": {
      "provenance": []
    },
    "kernelspec": {
      "name": "python3",
      "display_name": "Python 3"
    },
    "language_info": {
      "name": "python"
    }
  },
  "cells": [
    {
      "cell_type": "markdown",
      "source": [
        "#Системы линейных уравнений."
      ],
      "metadata": {
        "id": "hUAHjRwmGfsi"
      }
    },
    {
      "cell_type": "markdown",
      "source": [
        "1. Проверьте на совместность и выясните сколько решений будет иметь\n",
        "система линейных уравнений :"
      ],
      "metadata": {
        "id": "_tn6QZtBIu9R"
      }
    },
    {
      "cell_type": "code",
      "execution_count": 1,
      "metadata": {
        "id": "H8fLguPJGcVE"
      },
      "outputs": [],
      "source": [
        "import numpy as np"
      ]
    },
    {
      "cell_type": "code",
      "source": [
        "A = np.array([[3, -1, 1], [2, -5, -3], [1, 1, -1]])\n",
        "b = np.array([4, -17, 0])[:, np.newaxis]\n",
        "A_extended = np.hstack((A, b))\n",
        "print(f'rank A = {np.linalg.matrix_rank(A)}')\n",
        "print(f'rank A_extended = {np.linalg.matrix_rank(A_extended)}')\n",
        "\n",
        "# Число неизвестных система совместна и имеет единственное решение"
      ],
      "metadata": {
        "colab": {
          "base_uri": "https://localhost:8080/"
        },
        "id": "Ca5ixFZwNDon",
        "outputId": "91841422-9744-4e7b-c819-bad4edf9322a"
      },
      "execution_count": 2,
      "outputs": [
        {
          "output_type": "stream",
          "name": "stdout",
          "text": [
            "rank A = 3\n",
            "rank A_extended = 3\n"
          ]
        }
      ]
    },
    {
      "cell_type": "code",
      "source": [
        "A = np.array([[2, -4, 6], [1, -2, 3], [3, -6, 9]])\n",
        "b = np.array([1, -2, 5])[:, np.newaxis]\n",
        "A_extended = np.hstack((A, b))\n",
        "print(f'rank A = {np.linalg.matrix_rank(A)}')\n",
        "print(f'rank A_extended = {np.linalg.matrix_rank(A_extended)}')\n",
        "\n",
        "# Система не совместна и не имеет решений"
      ],
      "metadata": {
        "colab": {
          "base_uri": "https://localhost:8080/"
        },
        "id": "T6PmdESKNZrS",
        "outputId": "f6f3fa0f-c5ca-4371-bff3-a497b4197e26"
      },
      "execution_count": 3,
      "outputs": [
        {
          "output_type": "stream",
          "name": "stdout",
          "text": [
            "rank A = 1\n",
            "rank A_extended = 2\n"
          ]
        }
      ]
    },
    {
      "cell_type": "code",
      "source": [
        "A = np.array([[1, 2, 5], [3, 1, -8]])\n",
        "b = np.array([4, -2])[:, np.newaxis]\n",
        "A_extended = np.hstack((A, b))\n",
        "print(f'rank A = {np.linalg.matrix_rank(A)}')\n",
        "print(f'rank A_extended = {np.linalg.matrix_rank(A_extended)}')\n",
        "\n",
        "# Pанги матриц равны 2, но число неизвестных - 3, система имеет бесконечное количество решений."
      ],
      "metadata": {
        "colab": {
          "base_uri": "https://localhost:8080/"
        },
        "id": "BLjb0iMuNhiY",
        "outputId": "f1e45f16-ec84-48e7-b916-03550aa50091"
      },
      "execution_count": 4,
      "outputs": [
        {
          "output_type": "stream",
          "name": "stdout",
          "text": [
            "rank A = 2\n",
            "rank A_extended = 2\n"
          ]
        }
      ]
    },
    {
      "cell_type": "markdown",
      "source": [
        "2. Проверьте на совместность и выясните, сколько решений будет иметь\n",
        "система линейных уравнений, заданная расширенной матрицей:"
      ],
      "metadata": {
        "id": "_4E8Y0xTOEuj"
      }
    },
    {
      "cell_type": "code",
      "source": [
        "A = np.array([[1, 3, -2, 4], [0, 5, 0, 1], [0, 0, 3, 0], [0, 0, 0, 2]])\n",
        "b = np.array([[3], [2], [4], [1]])\n",
        "A_ext = np.hstack((A, b))\n",
        "print(f'Система совместна: {np.linalg.matrix_rank(A) == np.linalg.matrix_rank(A_ext)}')\n",
        "print(f'Имеет единственное решение: {np.linalg.matrix_rank(A) == np.linalg.matrix_rank(A_ext) == 4}')"
      ],
      "metadata": {
        "colab": {
          "base_uri": "https://localhost:8080/"
        },
        "id": "yAhyIg8hOO3R",
        "outputId": "dbd5f991-4618-4438-dff8-a82c50eb3126"
      },
      "execution_count": 5,
      "outputs": [
        {
          "output_type": "stream",
          "name": "stdout",
          "text": [
            "Система совместна: True\n",
            "Имеет единственное решение: True\n"
          ]
        }
      ]
    },
    {
      "cell_type": "markdown",
      "source": [
        "3.Дана система линейных уравнений заданная расширенной матрицей.\n",
        "Найдите соотношение между параметрами a, b и c, при которых система\n",
        "считается несовместной."
      ],
      "metadata": {
        "id": "Db6AKXg9Oh0J"
      }
    },
    {
      "cell_type": "code",
      "source": [
        "A = np.array([[1, 2, 3], [4, 5, 6], [7, 8, 9]])\n",
        "A[2] = A[2] - 2*A[1] + A[0]\n",
        "print(f'Matrix A:\\n {A}')\n",
        "\n",
        "# Чтобы система была несовместной нужно чтобы после преобразований в расширенной матрице в третьей строке свободных членов был не то 0, есть c −2b+a≠ 0."
      ],
      "metadata": {
        "colab": {
          "base_uri": "https://localhost:8080/"
        },
        "id": "Jl94QWeEOrWV",
        "outputId": "573022c8-6781-4403-fe13-7044f045ee5b"
      },
      "execution_count": 6,
      "outputs": [
        {
          "output_type": "stream",
          "name": "stdout",
          "text": [
            "Matrix A:\n",
            " [[1 2 3]\n",
            " [4 5 6]\n",
            " [0 0 0]]\n"
          ]
        }
      ]
    },
    {
      "cell_type": "markdown",
      "source": [
        " 4.Решите систему уравнений методом Крамера"
      ],
      "metadata": {
        "id": "OEns_aKdPoNn"
      }
    },
    {
      "cell_type": "code",
      "source": [
        "def kramer(A, b):\n",
        "  assert A.shape[0] == A.shape[1], 'Wrong matrix size!'\n",
        "  det_A = np.linalg.det(A)\n",
        "  result = []\n",
        "  if np.abs(det_A) > 0.000001:\n",
        "    for i in range(A.shape[0]):\n",
        "      A_i = np.hstack((A[:, :i], b, A[:, i+1:]))\n",
        "      result.append(np.linalg.det(A_i) / det_A)\n",
        "    return np.round(result, 2)\n",
        "  else:\n",
        "    return 'det A is 0'"
      ],
      "metadata": {
        "id": "qINfBq7cQAU9"
      },
      "execution_count": 12,
      "outputs": []
    },
    {
      "cell_type": "code",
      "source": [
        "A = np.array([[1, -2], [3, -4]])\n",
        "b = np.array([[1, 7]]).T\n",
        "print(f'{kramer(A, b)}')"
      ],
      "metadata": {
        "colab": {
          "base_uri": "https://localhost:8080/"
        },
        "id": "I9nSvKA3RY5d",
        "outputId": "0eade87d-a7f6-440e-e988-6b6c3d0b7735"
      },
      "execution_count": 13,
      "outputs": [
        {
          "output_type": "stream",
          "name": "stdout",
          "text": [
            "[5. 2.]\n"
          ]
        }
      ]
    },
    {
      "cell_type": "code",
      "source": [
        "A = np.array([[2, -1, 5], [1, 1, -3], [2, 4, 1]])\n",
        "b = np.array([[10, -2, 1]]).T\n",
        "print(f'{kramer(A, b)}')"
      ],
      "metadata": {
        "colab": {
          "base_uri": "https://localhost:8080/"
        },
        "id": "S7mf7yJpRiOT",
        "outputId": "41fae52a-b8a8-4dd6-f6b7-b490cf48cc0c"
      },
      "execution_count": 14,
      "outputs": [
        {
          "output_type": "stream",
          "name": "stdout",
          "text": [
            "[ 2. -1.  1.]\n"
          ]
        }
      ]
    }
  ]
}