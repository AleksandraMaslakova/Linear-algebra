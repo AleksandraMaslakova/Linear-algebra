{
  "nbformat": 4,
  "nbformat_minor": 0,
  "metadata": {
    "colab": {
      "provenance": []
    },
    "kernelspec": {
      "name": "python3",
      "display_name": "Python 3"
    },
    "language_info": {
      "name": "python"
    }
  },
  "cells": [
    {
      "cell_type": "markdown",
      "source": [
        "Линейное пространство.\n",
        "\n",
        "\n",
        "Задание №1. Исследовать линейную зависимость."
      ],
      "metadata": {
        "id": "bijDVuT0Ve1Z"
      }
    },
    {
      "cell_type": "markdown",
      "source": [
        "f1(x)=e^x, f2(x)=1, f3(x)=x+1, f4(x)=x-(e^x)\n",
        "\n",
        "*Решение:*\n",
        "f4(x)=f3(x)-f2(x)-f1(x)=(x+1)-(1)-(e^x)=x-(e^x)\n",
        "\n",
        "Вывод: вектора линейно зависимы"
      ],
      "metadata": {
        "id": "9500NdfPWHZE"
      }
    },
    {
      "cell_type": "markdown",
      "source": [
        "Задание№2. Исследовать нна линейную зависимостью.\n",
        "\n",
        "f1(x)=2, f2(x)=x, f3(x)=x^2, f4(x)=(x+1)^2\n",
        "\n",
        "Решение: f4(x)=f3(x)+2*f2(x)+0,5*f1(x)=x^2+2x+1=(x+1)^2\n",
        "\n",
        "Вывод: вектора линейно зависимы."
      ],
      "metadata": {
        "id": "NEEAbnSzYbHh"
      }
    },
    {
      "cell_type": "markdown",
      "source": [
        "Задание№3. Найти координаты вектора х=(2,3,5) ∈ℝ3  в бази с  b1=(0,0,10), b2=(2,0,0), b2= (0,1,0)\n",
        "\n",
        "Решение: \n",
        "\n",
        "x = (2,3,5) = (2,0,0)+(0,0,5)+(0,3,0)=0,5*(0,0,10)+1*(2,0,0)+3*(0,1,0)=0,5*b1+b2+3*b3\n",
        "\n",
        "Ответ: (0,5;1;3)"
      ],
      "metadata": {
        "id": "FXoQ-rabb_Fy"
      }
    },
    {
      "cell_type": "markdown",
      "source": [
        "Задание №4. Найти координаты вектора 3*x^2-2x+2 ∈ℝ3[х]  :\n",
        "\n",
        "а) в базисе 1,х,x^2;\n",
        "\n",
        "b) в базисе x^2, x-1, 1."
      ],
      "metadata": {
        "id": "pN2_tjtRfE0T"
      }
    },
    {
      "cell_type": "markdown",
      "source": [
        "Решение:\n",
        "\n",
        "а) 2*1+(-2)*x+3*x^2= (2,-2,3);\n",
        "\n",
        "б) 3*x^2-2*(x-1)=(3,-2,0)."
      ],
      "metadata": {
        "id": "7QBdAF0hfn74"
      }
    },
    {
      "cell_type": "code",
      "source": [
        "import numpy as np\n",
        "from numpy.linalg import norm\n",
        "import matplotlib.pyplot as plt"
      ],
      "metadata": {
        "id": "eV_07bRlhkTV"
      },
      "execution_count": 1,
      "outputs": []
    },
    {
      "cell_type": "markdown",
      "source": [
        "Задание№5."
      ],
      "metadata": {
        "id": "UBuSRFbWiEBo"
      }
    },
    {
      "cell_type": "code",
      "source": [
        "x = np.array([0, -3, 6])\n",
        "y = np.array([-4, 7, 9])\n",
        "\n",
        "print(f'(x,y) = \\t{x.dot(y)}')"
      ],
      "metadata": {
        "colab": {
          "base_uri": "https://localhost:8080/"
        },
        "id": "V1O9oQTNiKW4",
        "outputId": "b08569ca-e56f-48fc-bdfd-aba2cc53d6d3"
      },
      "execution_count": 2,
      "outputs": [
        {
          "output_type": "stream",
          "name": "stdout",
          "text": [
            "(x,y) = \t33\n"
          ]
        }
      ]
    },
    {
      "cell_type": "code",
      "source": [
        "x = np.array([7, -4, 0, 1])\n",
        "y = np.array([-3, 1, 11, 2])\n",
        "\n",
        "print(f'(x,y) = \\t{x.dot(y)}')"
      ],
      "metadata": {
        "colab": {
          "base_uri": "https://localhost:8080/"
        },
        "id": "wxaXBL1_iwye",
        "outputId": "8ea332ce-e36e-47f4-b5b5-3d7c0892aeda"
      },
      "execution_count": 3,
      "outputs": [
        {
          "output_type": "stream",
          "name": "stdout",
          "text": [
            "(x,y) = \t-23\n"
          ]
        }
      ]
    },
    {
      "cell_type": "markdown",
      "source": [
        "Задание№6"
      ],
      "metadata": {
        "id": "3ta6zA8CjXrT"
      }
    },
    {
      "cell_type": "code",
      "source": [
        "a = np.array([4, 2, 4])\n",
        "b = np.array([12, 3, 4])"
      ],
      "metadata": {
        "id": "s3WIJ2BYjezj"
      },
      "execution_count": 4,
      "outputs": []
    },
    {
      "cell_type": "code",
      "source": [
        "print(f'l1 норма вектора а:\\t{norm(a, ord=1)}')\n",
        "print(f'l1 норма вектора b:\\t{norm(b, ord=1)}')"
      ],
      "metadata": {
        "colab": {
          "base_uri": "https://localhost:8080/"
        },
        "id": "xAPfoENDjvmK",
        "outputId": "935777ef-7f00-498f-8b0e-c09eddb4873f"
      },
      "execution_count": 6,
      "outputs": [
        {
          "output_type": "stream",
          "name": "stdout",
          "text": [
            "l1 норма вектора а:\t10.0\n",
            "l1 норма вектора b:\t19.0\n"
          ]
        }
      ]
    },
    {
      "cell_type": "code",
      "source": [
        "print(f'l2 норма вектора а:\\t{norm(a, ord=2)}')\n",
        "print(f'l2 норма вектора b:\\t{norm(b, ord=2)}')"
      ],
      "metadata": {
        "colab": {
          "base_uri": "https://localhost:8080/"
        },
        "outputId": "bdd3a9a2-530a-4662-a547-8b3b5102bf31",
        "id": "GwZC33GlkkiL"
      },
      "execution_count": 7,
      "outputs": [
        {
          "output_type": "stream",
          "name": "stdout",
          "text": [
            "l2 норма вектора а:\t6.0\n",
            "l2 норма вектора b:\t13.0\n"
          ]
        }
      ]
    },
    {
      "cell_type": "code",
      "source": [
        "cos_phi = np.dot(a,b) / norm(a) / norm(b)\n",
        "print(f'Косинус угла между a и b: {cos_phi:.2f}')\n",
        "print(f'Угол между a и b: {np.arccos(cos_phi):.2f}')"
      ],
      "metadata": {
        "colab": {
          "base_uri": "https://localhost:8080/"
        },
        "id": "1Qm0oWZMkw4e",
        "outputId": "b2aeca23-0f0c-4cd7-d9c1-df970faa44aa"
      },
      "execution_count": 8,
      "outputs": [
        {
          "output_type": "stream",
          "name": "stdout",
          "text": [
            "Косинус угла между a и b: 0.90\n",
            "Угол между a и b: 0.46\n"
          ]
        }
      ]
    },
    {
      "cell_type": "markdown",
      "source": [
        "Задание №7.\n",
        "\n",
        "Будет ли линейное пространство евклидовым, если за скалярное произведение принять:\n",
        "\n",
        "а) произведение длин векторов;\n",
        "\n",
        "б) утроенное обычное скалярное произведение векторов?\n",
        "\n",
        "Решение:\n",
        "\n",
        "а)Нет, т.к. не выполнится третья аксиома для Евклидова пространства.\n",
        "\n",
        "б)Да, т.к. выполнятся все аксиомы для Евклидова пространства."
      ],
      "metadata": {
        "id": "oYBnU3OhmWsK"
      }
    },
    {
      "cell_type": "markdown",
      "source": [
        "Задание №8\n",
        "\n",
        "Какие из нижеперечисленных векторов образуют ортонормированный базис в линейном пространстве  ℝ3 :\n",
        "\n",
        "а)  (1,0,0),(0,0,1); \n",
        "\n",
        "б)  (1/2‾√,−1/2‾√,0),(1/2‾√,1/2‾√,0),(0,0,1); \n",
        "\n",
        "в)  (1/2,−1/2,0),(0,1/2,1/2),(0,0,1); \n",
        "\n",
        "г)  (1,0,0),(0,1,0),(0,0,1)?"
      ],
      "metadata": {
        "id": "TAbjTRjdnBYj"
      }
    },
    {
      "cell_type": "markdown",
      "source": [
        "Решение:\n",
        "\n",
        "а) Образуют ортонормированный базис в ℝ3, но не являются базисом ℝ3."
      ],
      "metadata": {
        "id": "dGtayRnMnbYw"
      }
    },
    {
      "cell_type": "markdown",
      "source": [
        "б)Образуют ортонормированный базис, т.к. выполняются все условия."
      ],
      "metadata": {
        "id": "YZUKcC0wnyZX"
      }
    },
    {
      "cell_type": "code",
      "source": [
        "a = np.array([1/(2)**0.5, -1/(2)**0.5, 0])\n",
        "b = np.array([1/(2)**0.5, 1/(2)**0.5, 0])\n",
        "c = np.array([0, 0, 1])"
      ],
      "metadata": {
        "id": "JtKLTLKboCEZ"
      },
      "execution_count": 9,
      "outputs": []
    },
    {
      "cell_type": "code",
      "source": [
        "print(f'(a,a)= {a.dot(a):1.0f}')\n",
        "print(f'(b,b)= {b.dot(b):1.0f}')\n",
        "print(f'(c,c)= {c.dot(c):1.0f}')"
      ],
      "metadata": {
        "colab": {
          "base_uri": "https://localhost:8080/"
        },
        "id": "XsgUKl6Gosn7",
        "outputId": "d46f1bb5-49ad-4c5e-e388-51915aa5d92b"
      },
      "execution_count": 10,
      "outputs": [
        {
          "output_type": "stream",
          "name": "stdout",
          "text": [
            "(a,a)= 1\n",
            "(b,b)= 1\n",
            "(c,c)= 1\n"
          ]
        }
      ]
    },
    {
      "cell_type": "code",
      "source": [
        "print(f'(a,b)= {a.dot(b)}')\n",
        "print(f'(a,c)= {a.dot(c)}')\n",
        "print(f'(c,b)= {c.dot(b)}')"
      ],
      "metadata": {
        "colab": {
          "base_uri": "https://localhost:8080/"
        },
        "id": "GsGwNn0JpOKC",
        "outputId": "3b385a25-b47a-4de9-b769-ad1e2c90eb0b"
      },
      "execution_count": 11,
      "outputs": [
        {
          "output_type": "stream",
          "name": "stdout",
          "text": [
            "(a,b)= 0.0\n",
            "(a,c)= 0.0\n",
            "(c,b)= 0.0\n"
          ]
        }
      ]
    },
    {
      "cell_type": "markdown",
      "source": [
        "в) Не образуют ортонормированный базис, т.к. не выполняются все условия."
      ],
      "metadata": {
        "id": "T1pe-m4MplAf"
      }
    },
    {
      "cell_type": "code",
      "source": [
        "a = np.array([1/2, -1/2, 0])\n",
        "b = np.array([0, 1/2, 1/2])\n",
        "c = np.array([0, 0, 1])"
      ],
      "metadata": {
        "id": "8DvWVH89p0t6"
      },
      "execution_count": 12,
      "outputs": []
    },
    {
      "cell_type": "code",
      "source": [
        "print(f'(a,a)= {a.dot(a)}')\n",
        "print(f'(b,b)= {b.dot(b)}')\n",
        "print(f'(c,c)= {c.dot(c)}')"
      ],
      "metadata": {
        "colab": {
          "base_uri": "https://localhost:8080/"
        },
        "id": "iltWung3qXyq",
        "outputId": "cdd41a9f-b3a0-4e26-dae8-ed9525582eb5"
      },
      "execution_count": 13,
      "outputs": [
        {
          "output_type": "stream",
          "name": "stdout",
          "text": [
            "(a,a)= 0.5\n",
            "(b,b)= 0.5\n",
            "(c,c)= 1\n"
          ]
        }
      ]
    },
    {
      "cell_type": "code",
      "source": [
        "print(f'(a,b)= {a.dot(b)}')\n",
        "print(f'(a,c)= {a.dot(c)}')\n",
        "print(f'(c,b)= {c.dot(b)}')"
      ],
      "metadata": {
        "colab": {
          "base_uri": "https://localhost:8080/"
        },
        "id": "NkHd3UDQqoh-",
        "outputId": "77767cca-004e-4915-893f-2cb5f7ff81f6"
      },
      "execution_count": 14,
      "outputs": [
        {
          "output_type": "stream",
          "name": "stdout",
          "text": [
            "(a,b)= -0.25\n",
            "(a,c)= 0.0\n",
            "(c,b)= 0.5\n"
          ]
        }
      ]
    },
    {
      "cell_type": "markdown",
      "source": [
        "г) Образуют ортонормированный базис, т.к. выполняются все условия."
      ],
      "metadata": {
        "id": "hgfXSKo3q5xF"
      }
    },
    {
      "cell_type": "code",
      "source": [
        "a = np.array([1, 0, 0])\n",
        "b = np.array([0, 1, 0])\n",
        "c = np.array([0, 0, 1])"
      ],
      "metadata": {
        "id": "mJmq7dNmrJga"
      },
      "execution_count": 15,
      "outputs": []
    },
    {
      "cell_type": "code",
      "source": [
        "print(f'(a,a)= {a.dot(a)}')\n",
        "print(f'(b,b)= {b.dot(b)}')\n",
        "print(f'(c,c)= {c.dot(c)}')"
      ],
      "metadata": {
        "colab": {
          "base_uri": "https://localhost:8080/"
        },
        "outputId": "f5a31ed5-9e80-47cd-a473-a9987624908e",
        "id": "kM5cyUbrrTC7"
      },
      "execution_count": 16,
      "outputs": [
        {
          "output_type": "stream",
          "name": "stdout",
          "text": [
            "(a,a)= 1\n",
            "(b,b)= 1\n",
            "(c,c)= 1\n"
          ]
        }
      ]
    },
    {
      "cell_type": "code",
      "source": [
        "print(f'(a,b)= {a.dot(b)}')\n",
        "print(f'(a,c)= {a.dot(c)}')\n",
        "print(f'(c,b)= {c.dot(b)}')"
      ],
      "metadata": {
        "colab": {
          "base_uri": "https://localhost:8080/"
        },
        "outputId": "88e5ad25-b279-4054-f5a0-73234e51d63a",
        "id": "HMDpe6OmraPU"
      },
      "execution_count": 17,
      "outputs": [
        {
          "output_type": "stream",
          "name": "stdout",
          "text": [
            "(a,b)= 0\n",
            "(a,c)= 0\n",
            "(c,b)= 0\n"
          ]
        }
      ]
    }
  ]
}